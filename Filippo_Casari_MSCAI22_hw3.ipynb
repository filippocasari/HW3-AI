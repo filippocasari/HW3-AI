{
  "cells": [
    {
      "cell_type": "markdown",
      "metadata": {
        "id": "IaAZiTQwE3lm"
      },
      "source": [
        "# Homework 3 (Tutorial 7)\n",
        "\n",
        "##MA course in Artificial Intelligence 2022/2023\n",
        "\n",
        "@author: Filippo Casari"
      ]
    },
    {
      "cell_type": "code",
      "execution_count": 1,
      "metadata": {
        "colab": {
          "base_uri": "https://localhost:8080/"
        },
        "id": "J2bH52MfXBM6",
        "outputId": "73d16efb-f395-426f-f409-64db55bc380f"
      },
      "outputs": [],
      "source": [
        "#!rm -r AI2022MA/\n",
        "#!git clone https://github.com/UmbertoJr/AI2022MA.git &> /dev/null"
      ]
    },
    {
      "cell_type": "code",
      "execution_count": 2,
      "metadata": {
        "colab": {
          "base_uri": "https://localhost:8080/",
          "height": 552
        },
        "id": "XEJY8cipXg-3",
        "outputId": "03f23b73-14dd-4a5c-d313-46fe1ffbd80c"
      },
      "outputs": [
        {
          "name": "stdout",
          "output_type": "stream",
          "text": [
            "name: eil76\n",
            "nPoints: 76\n",
            "best_sol: 538.0\n"
          ]
        }
      ],
      "source": [
        "# Imports\n",
        "\n",
        "#from AI2022MA.IO_manager.io_tsp import TSP_Instance_Creator\n",
        "# if you are running from your local remove the prefix AI2020 (comment the previous line and uncomment the following line)\n",
        "from IO_manager.io_tsp import TSP_Instance_Creator\n",
        "\n",
        "ic = TSP_Instance_Creator(\"standard\", 'eil76.tsp')\n",
        "ic.print_info()\n",
        "#ic.plot_data()"
      ]
    },
    {
      "cell_type": "code",
      "execution_count": 3,
      "metadata": {
        "colab": {
          "base_uri": "https://localhost:8080/",
          "height": 552
        },
        "id": "GRKbkZlgdN_9",
        "outputId": "eddfd44c-7b0c-4eb0-ca0a-ba1e27ddf17d"
      },
      "outputs": [
        {
          "name": "stdout",
          "output_type": "stream",
          "text": [
            "name: ch130\n",
            "nPoints: 130\n",
            "best_sol: 6110.0\n"
          ]
        }
      ],
      "source": [
        "ic = TSP_Instance_Creator(\"standard\", 'ch130.tsp')\n",
        "ic.print_info()\n",
        "#ic.plot_data()"
      ]
    },
    {
      "cell_type": "code",
      "execution_count": 4,
      "metadata": {
        "colab": {
          "base_uri": "https://localhost:8080/",
          "height": 552
        },
        "id": "L3xCO46-dNzG",
        "outputId": "496355c3-f87a-4281-eee5-645af6830f0f"
      },
      "outputs": [
        {
          "name": "stdout",
          "output_type": "stream",
          "text": [
            "name: d198\n",
            "nPoints: 198\n",
            "best_sol: 15780.0\n"
          ]
        }
      ],
      "source": [
        "ic = TSP_Instance_Creator(\"standard\", 'd198.tsp')\n",
        "ic.print_info()\n",
        "#ic.plot_data()"
      ]
    },
    {
      "cell_type": "code",
      "execution_count": 5,
      "metadata": {
        "colab": {
          "base_uri": "https://localhost:8080/",
          "height": 550
        },
        "id": "4LYHiaRzmwH1",
        "outputId": "26d2a0f4-f6b4-40e3-bffc-c72a86925d45"
      },
      "outputs": [
        {
          "name": "stdout",
          "output_type": "stream",
          "text": [
            "name: myTSP_dim10\n",
            "nPoints: 10\n",
            "best_sol: 2732.0\n"
          ]
        },
        {
          "data": {
            "image/png": "[encoded data removed]",
            "text/plain": [
              "<Figure size 576x576 with 1 Axes>"
            ]
          },
          "metadata": {
            "needs_background": "light"
          },
          "output_type": "display_data"
        }
      ],
      "source": [
        "ic = TSP_Instance_Creator(\"standard\", 'myTSP_dim10.tsp')\n",
        "ic.print_info()\n",
        "ic.plot_data()"
      ]
    },
    {
      "cell_type": "code",
      "execution_count": 6,
      "metadata": {},
      "outputs": [],
      "source": [
        "import time\n",
        "from IPython import display\n",
        "from matplotlib import pyplot as plt\n",
        "%matplotlib notebook\n",
        "\n",
        "\n",
        "def plot_tour(instance, tour, ant):\n",
        "    \"\"\"plot iterativerly the tour for that ant\n",
        "\n",
        "    Args:\n",
        "        instance (TSP_Instance_Creator): TSP problem\n",
        "        tour (list): tour of the ant\n",
        "        ant (int): ant number\n",
        "    \"\"\"\n",
        "    plt.figure(figsize=(8, 8))\n",
        "    plt.grid()\n",
        "    plt.title(f\"Tour Ant # {ant}\")\n",
        "    plt.scatter(instance.points[:, 1], instance.points[:, 2])\n",
        "    for t in range(len(tour)-1):\n",
        "        xy1, xy2 = tour[t], tour[t+1]\n",
        "        plt.plot([instance.points[xy1, 1], instance.points[xy2, 1]], [\n",
        "                 instance.points[xy1, 2], instance.points[xy2, 2]], color=\"blue\")\n",
        "        display.clear_output(wait=True)\n",
        "        display.display(plt.gcf())\n",
        "        time.sleep(0.1)\n"
      ]
    },
    {
      "cell_type": "code",
      "execution_count": 7,
      "metadata": {
        "id": "IEpkn0lSX8Li"
      },
      "outputs": [],
      "source": [
        "import numpy as np\n",
        "import random\n",
        "from solvers import local_search\n",
        "from solvers.constructive_algorithms import nn\n",
        "from solvers.two_opt_with_candidate import twoOpt_with_cl\n",
        "from threading import Thread\n",
        "from time import sleep\n",
        "# nn takes as input the distance matrix and returns\n",
        "# the tour and the length constructed with nearest neighbor, i.e.   tour, len_t = nn(dist_mat)\n",
        "\n",
        "# twoOpt takes as input the solution, the actual_len and the distance matrix\n",
        "# and returns the tour and the length created with 2-opt, i.e.     tour, lent_t = twoOpt(solution, actual_len, dist_mat)\n",
        "\n",
        "\n",
        "class ACS:\n",
        "    m = 10\n",
        "    beta = 2\n",
        "    alpha = rho = 0.1\n",
        "    cl = 15\n",
        "    q0 = 0.98\n",
        "    stop_after_secs = 0\n",
        "\n",
        "    @staticmethod\n",
        "    def take_candidates(j, dist_mat):\n",
        "        \"\"\"take candidate list\n",
        "\n",
        "        Args:\n",
        "            j (_type_): city name\n",
        "            dist_mat (_type_): distance matrix\n",
        "\n",
        "        Returns:\n",
        "            _type_: np.array containing candidate list\n",
        "        \"\"\"\n",
        "        return (np.argsort(dist_mat[j])[1:ACS.cl+1])\n",
        "\n",
        "    @staticmethod\n",
        "    def take_other_cities(j, dist_mat):\n",
        "        \"\"\"return cities not in the candidate list\n",
        "\n",
        "        Args:\n",
        "            j (_type_): city\n",
        "            dist_mat (_type_): distance matrix\n",
        "\n",
        "        Returns:\n",
        "            _type_: list of cities close to city but not in candidate list\n",
        "        \"\"\"\n",
        "        return (np.argsort(dist_mat[j])[ACS.cl+1:])\n",
        "\n",
        "    def __init__(self, instance, q0=None, boost=False, timeStop=180):\n",
        "        \"\"\"Constructor\n",
        "\n",
        "        Args:\n",
        "            instance (_type_):problem to solve\n",
        "            q0 (float, optional): . Defaults to None.\n",
        "            boost (bool, optional): applying 2opt or not. Defaults to False.\n",
        "            timeStop (int, optional): time after which stopping the algorithm. Defaults to 180.\n",
        "        \"\"\"\n",
        "        self.boost = boost\n",
        "        self.stop_after_secs = timeStop\n",
        "        if (q0 != None):\n",
        "            self.q0 = q0\n",
        "        self.instance = instance\n",
        "        self.n = instance.nPoints\n",
        "        self.dist_mat = instance.dist_matrix\n",
        "        _, self.L_nn = nn(instance.dist_matrix,\n",
        "                          starting_node=np.random.choice(self.n))\n",
        "        self.tau0 = 1./(float(self.n) * self.L_nn)\n",
        "\n",
        "        # position collector for the Ants, TO BE UPDATED during the steps\n",
        "        self.position = {i: None for i in range(ACS.m)}\n",
        "        self.tour = {i: []\n",
        "                     for i in range(ACS.m)}  # tour collector for the Ants\n",
        "        #self.pheromone = {r: [self.tau0]*ACS.cl for r in range(self.n)}\n",
        "        self.pheromone = {r: [self.tau0]*(self.n) for r in range(self.n)}\n",
        "        self.candidate_list = {r: ACS.take_candidates(r, instance.dist_matrix) for r in range(\n",
        "            self.n)}  # per tutte le citta', prende le citta vicine\n",
        "        #self.eta = {r: [1/self.dist_mat[r, s] for s in ACS.take_candidates(r, instance.dist_matrix)] for r in range(self.n)}\n",
        "        self.eta = {r: [1./(self.dist_mat[r, s]+np.finfo(np.double).eps)\n",
        "                        for s in range(self.n)] for r in range(self.n)}\n",
        "        for k in self.eta:\n",
        "            self.eta[k][k] = 0.\n",
        "        self.tour_len = {i: 0. for i in range(ACS.m)}\n",
        "        self.best_tour = []\n",
        "        self.best_ant = 0\n",
        "        self.best_tour_len = 10e10\n",
        "        self.iterations = 1000000\n",
        "        self.tour_len_global = []\n",
        "        self.current_iteration = 0\n",
        "        self.tour_len_over_iters = []\n",
        "        self.count_exploitation = 0\n",
        "        self.count_exploration = 0\n",
        "        self.best_len = 0.\n",
        "        self.best_tour_tmp = []\n",
        "\n",
        "    def global_update(self):\n",
        "        \"\"\"Global pheromone updating\n",
        "        \"\"\"\n",
        "        for k1, val1 in self.pheromone.items():\n",
        "\n",
        "            for k2, val2 in self.pheromone.items():\n",
        "\n",
        "                if (k1 == k2):\n",
        "                    self.pheromone[k1][k2] = 0.\n",
        "                else:\n",
        "                    delta_tau = 0.\n",
        "                    if (k1 in self.best_tour_tmp and k2 in self.best_tour_tmp):\n",
        "                        delta_tau = 1./self.best_len\n",
        "\n",
        "                    self.pheromone[k1][k2] = (\n",
        "                        1. - self.alpha) * self.pheromone[k1][k2] + (self.alpha * delta_tau)\n",
        "                    self.pheromone[k2][k1] = (\n",
        "                        1. - self.alpha) * self.pheromone[k2][k1] + (self.alpha * delta_tau)\n",
        "\n",
        "    def solve(self):\n",
        "        \"\"\"Solving ACS\n",
        "        \"\"\"\n",
        "        threeMinutes = Thread(target=lambda: sleep(self.stop_after_secs))\n",
        "        threeMinutes.start()\n",
        "        for iteration in range(self.iterations):\n",
        "            self.current_iteration = iteration\n",
        "\n",
        "            self.loop()\n",
        "            best_tour_ant = min(self.tour_len, key=self.tour_len.get)\n",
        "\n",
        "            self.best_len = self.tour_len[best_tour_ant]\n",
        "\n",
        "            self.best_tour_tmp = self.tour[best_tour_ant]\n",
        "            if (self.best_len < self.best_tour_len):\n",
        "                self.best_tour_len = self.best_len\n",
        "                self.best_ant = best_tour_ant\n",
        "                self.best_tour = self.best_tour_tmp\n",
        "\n",
        "            if (self.boost):\n",
        "                self.two_Opt_Improvement()\n",
        "            self.global_update()\n",
        "            self.tour_len_over_iters.append(self.best_len)\n",
        "            self.tour_len_global.append(np.mean(list(self.tour_len.values())))\n",
        "\n",
        "            if not threeMinutes.is_alive():\n",
        "                break\n",
        "            self.tour = {i: [] for i in range(ACS.m)}\n",
        "            self.position = {i: None for i in range(self.m)}\n",
        "            self.tour_len = {i: 0. for i in range(self.m)}\n",
        "\n",
        "    def local_update(self, k):\n",
        "        \"\"\"local pheromone update\n",
        "\n",
        "        Args:\n",
        "            k (int): ant number\n",
        "        \"\"\"\n",
        "        old_city = self.tour[k][-2]\n",
        "        next_city = self.position[k]\n",
        "        old_ph = self.pheromone[old_city][next_city]\n",
        "        pheromon = ((1.-self.rho) * old_ph) + (self.rho * self.tau0)\n",
        "        self.pheromone[old_city][next_city] = pheromon\n",
        "        self.pheromone[next_city][old_city] = pheromon\n",
        "        self.tour_len[k] += self.dist_mat[old_city, next_city]\n",
        "\n",
        "    def loop(self):\n",
        "        \"\"\"each ant contructs its own tour\n",
        "        \"\"\"\n",
        "\n",
        "        for node_idx in range(self.n):\n",
        "\n",
        "            if (node_idx < self.n-1):\n",
        "\n",
        "                for k in range(self.m):\n",
        "                    if (self.position[k] == None):\n",
        "                        self.position[k] = np.random.randint(\n",
        "                            low=0, high=self.n-1)\n",
        "\n",
        "                        self.tour[k].append(self.position[k])\n",
        "                    q = np.random.random()\n",
        "\n",
        "                    eta_beta = np.power(self.eta[self.position[k]], self.beta)\n",
        "\n",
        "                    s_list = eta_beta * \\\n",
        "                        np.array(self.pheromone[self.position[k]])\n",
        "                    s_list_cities = np.argsort(s_list)\n",
        "\n",
        "                    if (q < self.q0):\n",
        "                        self.count_exploitation += 1\n",
        "                        #next_city = max(s_dict, key=s_dict.get)\n",
        "\n",
        "                        for i in range(self.n):\n",
        "                            if (s_list_cities[self.n-1-i] not in self.tour[k]):\n",
        "                                next_city = s_list_cities[self.n-1-i]\n",
        "                                break\n",
        "\n",
        "                        self.position[k] = next_city\n",
        "                        self.tour[k].append(next_city)\n",
        "\n",
        "                    else:\n",
        "\n",
        "                        possible_cities = []\n",
        "                        new_s_list = []\n",
        "                        for i in range(self.n):\n",
        "                            if (i not in self.tour[k]):\n",
        "                                new_s_list.append(s_list[i])\n",
        "\n",
        "                                possible_cities.append(i)\n",
        "                        sum_val = sum(new_s_list)\n",
        "                        prob = new_s_list/sum_val\n",
        "\n",
        "                        next_city = random.choices(\n",
        "                            possible_cities, weights=prob, k=1)[0]\n",
        "\n",
        "                        self.tour[k].append(next_city)\n",
        "                        self.position[k] = next_city\n",
        "\n",
        "                        self.count_exploration += 1\n",
        "\n",
        "                    self.local_update(k)\n",
        "            else:\n",
        "                for k in range(self.m):\n",
        "                    self.tour[k].append(self.tour[k][0])\n",
        "                    self.tour_len[k] += self.dist_mat[self.tour[k]\n",
        "                                                      [-2], self.tour[k][-1]]\n",
        "\n",
        "    def two_Opt_Improvement(self):\n",
        "        \"\"\"two opt with CL\n",
        "        \"\"\"\n",
        "        best_tour_new, best_tour_len_new = twoOpt_with_cl(\n",
        "            self.best_tour_tmp, self.best_len, self.dist_mat, self.candidate_list)\n",
        "        if (best_tour_len_new < self.best_len):\n",
        "            self.best_len, self.best_tour_tmp = best_tour_len_new, best_tour_new\n",
        "            if (self.best_len < self.best_tour_len):\n",
        "\n",
        "                self.best_tour, self.best_tour_len = best_tour_new, best_tour_len_new\n"
      ]
    },
    {
      "cell_type": "code",
      "execution_count": 8,
      "metadata": {
        "colab": {
          "base_uri": "https://localhost:8080/"
        },
        "id": "GvBQ8MDWhg1G",
        "outputId": "bddf254b-28a0-442e-f002-524e9d083f79"
      },
      "outputs": [
        {
          "name": "stdout",
          "output_type": "stream",
          "text": [
            "Warning: Cannot change to a different GUI toolkit: tk. Using notebook instead.\n",
            "-------  Q0 = 0.98 ---------\n",
            "-------  SEED = 0 ---------\n",
            "-------  Boost/2opt = True ---------\n",
            "-------  INSTANCE = eil76.tsp ---------\n"
          ]
        },
        {
          "ename": "KeyboardInterrupt",
          "evalue": "",
          "output_type": "error",
          "traceback": [
            "\u001b[0;31m---------------------------------------------------------------------------\u001b[0m",
            "\u001b[0;31mKeyboardInterrupt\u001b[0m                         Traceback (most recent call last)",
            "\u001b[1;32m/Users/filippocasari/HW3-AI/Filippo_Casari_MSCAI22_hw3.ipynb Cell 9\u001b[0m in \u001b[0;36m<cell line: 12>\u001b[0;34m()\u001b[0m\n\u001b[1;32m     <a href='vscode-notebook-cell:/Users/filippocasari/HW3-AI/Filippo_Casari_MSCAI22_hw3.ipynb#X11sZmlsZQ%3D%3D?line=29'>30</a>\u001b[0m acs \u001b[39m=\u001b[39m ACS(ic, q, boost, \u001b[39m180\u001b[39m)\n\u001b[1;32m     <a href='vscode-notebook-cell:/Users/filippocasari/HW3-AI/Filippo_Casari_MSCAI22_hw3.ipynb#X11sZmlsZQ%3D%3D?line=30'>31</a>\u001b[0m \u001b[39m# print(acs.pheromone)\u001b[39;00m\n\u001b[1;32m     <a href='vscode-notebook-cell:/Users/filippocasari/HW3-AI/Filippo_Casari_MSCAI22_hw3.ipynb#X11sZmlsZQ%3D%3D?line=31'>32</a>\u001b[0m \u001b[39m# print(acs.candidate_list)\u001b[39;00m\n\u001b[0;32m---> <a href='vscode-notebook-cell:/Users/filippocasari/HW3-AI/Filippo_Casari_MSCAI22_hw3.ipynb#X11sZmlsZQ%3D%3D?line=32'>33</a>\u001b[0m acs\u001b[39m.\u001b[39;49msolve()\n\u001b[1;32m     <a href='vscode-notebook-cell:/Users/filippocasari/HW3-AI/Filippo_Casari_MSCAI22_hw3.ipynb#X11sZmlsZQ%3D%3D?line=33'>34</a>\u001b[0m results[instance]\u001b[39m.\u001b[39mappend(q)\n\u001b[1;32m     <a href='vscode-notebook-cell:/Users/filippocasari/HW3-AI/Filippo_Casari_MSCAI22_hw3.ipynb#X11sZmlsZQ%3D%3D?line=34'>35</a>\u001b[0m results[instance]\u001b[39m.\u001b[39mappend(boost)\n",
            "\u001b[1;32m/Users/filippocasari/HW3-AI/Filippo_Casari_MSCAI22_hw3.ipynb Cell 9\u001b[0m in \u001b[0;36mACS.solve\u001b[0;34m(self)\u001b[0m\n\u001b[1;32m    <a href='vscode-notebook-cell:/Users/filippocasari/HW3-AI/Filippo_Casari_MSCAI22_hw3.ipynb#X11sZmlsZQ%3D%3D?line=130'>131</a>\u001b[0m     \u001b[39mself\u001b[39m\u001b[39m.\u001b[39mbest_tour \u001b[39m=\u001b[39m \u001b[39mself\u001b[39m\u001b[39m.\u001b[39mbest_tour_tmp\n\u001b[1;32m    <a href='vscode-notebook-cell:/Users/filippocasari/HW3-AI/Filippo_Casari_MSCAI22_hw3.ipynb#X11sZmlsZQ%3D%3D?line=132'>133</a>\u001b[0m \u001b[39mif\u001b[39;00m (\u001b[39mself\u001b[39m\u001b[39m.\u001b[39mboost):\n\u001b[0;32m--> <a href='vscode-notebook-cell:/Users/filippocasari/HW3-AI/Filippo_Casari_MSCAI22_hw3.ipynb#X11sZmlsZQ%3D%3D?line=133'>134</a>\u001b[0m     \u001b[39mself\u001b[39;49m\u001b[39m.\u001b[39;49mtwo_Opt_Improvement()\n\u001b[1;32m    <a href='vscode-notebook-cell:/Users/filippocasari/HW3-AI/Filippo_Casari_MSCAI22_hw3.ipynb#X11sZmlsZQ%3D%3D?line=134'>135</a>\u001b[0m \u001b[39mself\u001b[39m\u001b[39m.\u001b[39mglobal_update()\n\u001b[1;32m    <a href='vscode-notebook-cell:/Users/filippocasari/HW3-AI/Filippo_Casari_MSCAI22_hw3.ipynb#X11sZmlsZQ%3D%3D?line=135'>136</a>\u001b[0m \u001b[39mself\u001b[39m\u001b[39m.\u001b[39mtour_len_over_iters\u001b[39m.\u001b[39mappend(\u001b[39mself\u001b[39m\u001b[39m.\u001b[39mbest_len)\n",
            "\u001b[1;32m/Users/filippocasari/HW3-AI/Filippo_Casari_MSCAI22_hw3.ipynb Cell 9\u001b[0m in \u001b[0;36mACS.two_Opt_Improvement\u001b[0;34m(self)\u001b[0m\n\u001b[1;32m    <a href='vscode-notebook-cell:/Users/filippocasari/HW3-AI/Filippo_Casari_MSCAI22_hw3.ipynb#X11sZmlsZQ%3D%3D?line=219'>220</a>\u001b[0m \u001b[39mdef\u001b[39;00m \u001b[39mtwo_Opt_Improvement\u001b[39m(\u001b[39mself\u001b[39m):\n\u001b[1;32m    <a href='vscode-notebook-cell:/Users/filippocasari/HW3-AI/Filippo_Casari_MSCAI22_hw3.ipynb#X11sZmlsZQ%3D%3D?line=220'>221</a>\u001b[0m     \u001b[39m\"\"\"two opt with CL\u001b[39;00m\n\u001b[1;32m    <a href='vscode-notebook-cell:/Users/filippocasari/HW3-AI/Filippo_Casari_MSCAI22_hw3.ipynb#X11sZmlsZQ%3D%3D?line=221'>222</a>\u001b[0m \u001b[39m    \"\"\"\u001b[39;00m\n\u001b[0;32m--> <a href='vscode-notebook-cell:/Users/filippocasari/HW3-AI/Filippo_Casari_MSCAI22_hw3.ipynb#X11sZmlsZQ%3D%3D?line=222'>223</a>\u001b[0m     best_tour_new, best_tour_len_new \u001b[39m=\u001b[39m twoOpt_with_cl(\n\u001b[1;32m    <a href='vscode-notebook-cell:/Users/filippocasari/HW3-AI/Filippo_Casari_MSCAI22_hw3.ipynb#X11sZmlsZQ%3D%3D?line=223'>224</a>\u001b[0m         \u001b[39mself\u001b[39;49m\u001b[39m.\u001b[39;49mbest_tour_tmp, \u001b[39mself\u001b[39;49m\u001b[39m.\u001b[39;49mbest_len, \u001b[39mself\u001b[39;49m\u001b[39m.\u001b[39;49mdist_mat, \u001b[39mself\u001b[39;49m\u001b[39m.\u001b[39;49mcandidate_list)\n\u001b[1;32m    <a href='vscode-notebook-cell:/Users/filippocasari/HW3-AI/Filippo_Casari_MSCAI22_hw3.ipynb#X11sZmlsZQ%3D%3D?line=224'>225</a>\u001b[0m     \u001b[39mif\u001b[39;00m (best_tour_len_new \u001b[39m<\u001b[39m \u001b[39mself\u001b[39m\u001b[39m.\u001b[39mbest_len):\n\u001b[1;32m    <a href='vscode-notebook-cell:/Users/filippocasari/HW3-AI/Filippo_Casari_MSCAI22_hw3.ipynb#X11sZmlsZQ%3D%3D?line=225'>226</a>\u001b[0m         \u001b[39mself\u001b[39m\u001b[39m.\u001b[39mbest_len, \u001b[39mself\u001b[39m\u001b[39m.\u001b[39mbest_tour_tmp \u001b[39m=\u001b[39m best_tour_len_new, best_tour_new\n",
            "File \u001b[0;32m~/HW3-AI/solvers/two_opt_with_candidate.py:126\u001b[0m, in \u001b[0;36mtwoOpt_with_cl\u001b[0;34m(solution, actual_len, matrix_dist, CL)\u001b[0m\n\u001b[1;32m    125\u001b[0m \u001b[39mdef\u001b[39;00m \u001b[39mtwoOpt_with_cl\u001b[39m(solution, actual_len, matrix_dist, CL):\n\u001b[0;32m--> 126\u001b[0m     \u001b[39mfor\u001b[39;00m data \u001b[39min\u001b[39;00m TwoOpt_CL\u001b[39m.\u001b[39mlocal_search(solution, actual_len, matrix_dist, CL):\n\u001b[1;32m    127\u001b[0m         \u001b[39mif\u001b[39;00m data[\u001b[39m3\u001b[39m]:\n\u001b[1;32m    128\u001b[0m             \u001b[39mreturn\u001b[39;00m data[\u001b[39m0\u001b[39m], data[\u001b[39m1\u001b[39m]\n",
            "File \u001b[0;32m~/HW3-AI/solvers/two_opt_with_candidate.py:110\u001b[0m, in \u001b[0;36mTwoOpt_CL.local_search\u001b[0;34m(solution, actual_len, matrix_dist, CL)\u001b[0m\n\u001b[1;32m    108\u001b[0m \u001b[39m# ite = 0\u001b[39;00m\n\u001b[1;32m    109\u001b[0m \u001b[39mwhile\u001b[39;00m \u001b[39mTrue\u001b[39;00m:\n\u001b[0;32m--> 110\u001b[0m     new_tsp_sequence, new_reward, uncr_ \u001b[39m=\u001b[39m TwoOpt_CL\u001b[39m.\u001b[39;49mstep2opt(new_tsp_sequence, matrix_dist, actual_len, CL, N)\n\u001b[1;32m    111\u001b[0m     uncross \u001b[39m+\u001b[39m\u001b[39m=\u001b[39m uncr_\n\u001b[1;32m    112\u001b[0m     \u001b[39mif\u001b[39;00m new_reward \u001b[39m<\u001b[39m actual_len:\n\u001b[1;32m    113\u001b[0m         \u001b[39m# print(actual_len, new_reward)\u001b[39;00m\n",
            "File \u001b[0;32m~/HW3-AI/solvers/two_opt_with_candidate.py:38\u001b[0m, in \u001b[0;36mTwoOpt_CL.step2opt\u001b[0;34m(solution, matrix_dist, distance, cand_list, N)\u001b[0m\n\u001b[1;32m     35\u001b[0m indices \u001b[39m=\u001b[39m [[] \u001b[39mfor\u001b[39;00m _ \u001b[39min\u001b[39;00m \u001b[39mrange\u001b[39m(\u001b[39m4\u001b[39m)]\n\u001b[1;32m     36\u001b[0m case \u001b[39m=\u001b[39m \u001b[39m0\u001b[39m\n\u001b[0;32m---> 38\u001b[0m \u001b[39mif\u001b[39;00m np\u001b[39m.\u001b[39;49mabs(el1 \u001b[39m-\u001b[39;49m el2) \u001b[39m>\u001b[39;49m\u001b[39m=\u001b[39;49m \u001b[39m1\u001b[39;49m:\n\u001b[1;32m     39\u001b[0m     new_distance \u001b[39m=\u001b[39m distance \u001b[39m+\u001b[39m TwoOpt_CL\u001b[39m.\u001b[39mgain(el1, el1 \u001b[39m+\u001b[39m \u001b[39m1\u001b[39m, el2, el2 \u001b[39m+\u001b[39m \u001b[39m1\u001b[39m, tsp_sequence, matrix_dist)\n\u001b[1;32m     40\u001b[0m     \u001b[39mif\u001b[39;00m new_distance \u001b[39m<\u001b[39m distance:\n",
            "\u001b[0;31mKeyboardInterrupt\u001b[0m: "
          ]
        }
      ],
      "source": [
        "import pandas as pd\n",
        "%matplotlib tk\n",
        "seeds = [0, 42, 123]\n",
        "q_s = [0.5, 0.98, 1.]\n",
        "instances = [\"eil76.tsp\", \"ch130.tsp\", \"d198.tsp\"]\n",
        "results = pd.DataFrame(columns=['q', 'boost', 'best integer len',\n",
        "                       '# iterations', 'AVG integer len', 'STD ', 'Optimum', 'Rel error'])\n",
        "counter = -1\n",
        "\n",
        "results.to_csv(\"results_final_2.csv\")\n",
        "list_len_over_iter = []\n",
        "list_of_len_global = []\n",
        "for q in q_s[1:2]:\n",
        "\n",
        "    if (q == 1.):\n",
        "        q = q-(13./ic.nPoints)\n",
        "    print(f\"-------  Q0 = {q} ---------\")\n",
        "    for seed in seeds:\n",
        "        print(f\"-------  SEED = {seed} ---------\")\n",
        "        random.seed(seed)\n",
        "        np.random.seed(seed)\n",
        "        for boost in [True, False]:\n",
        "            print(f\"-------  Boost/2opt = {boost} ---------\")\n",
        "\n",
        "            results = {i: [] for i in instances}\n",
        "            for instance in instances:\n",
        "\n",
        "                print(f\"-------  INSTANCE = {instance} ---------\")\n",
        "                ic = TSP_Instance_Creator(\"standard\", instance)\n",
        "\n",
        "                acs = ACS(ic, q, boost, 180)\n",
        "                # print(acs.pheromone)\n",
        "                # print(acs.candidate_list)\n",
        "                acs.solve()\n",
        "                results[instance].append(q)\n",
        "                results[instance].append(boost)\n",
        "                results[instance].append(acs.best_tour_len)\n",
        "                results[instance].append(acs.current_iteration)\n",
        "                results[instance].append(np.mean(acs.tour_len_global))\n",
        "                results[instance].append(np.std(acs.tour_len_global))\n",
        "                results[instance].append(ic.best_sol)\n",
        "                results[instance].append(\n",
        "                    ((acs.best_tour_len-ic.best_sol)*100.)/ic.best_sol)\n",
        "                list_of_len_global.append(np.mean(acs.tour_len_global))\n",
        "                list_len_over_iter.append(acs.tour_len_over_iters)\n",
        "\n",
        "                print(\"best gap (%) = \",\n",
        "                      ((acs.best_tour_len-ic.best_sol)*100.)/ic.best_sol)\n",
        "                print(\"best cost = \", acs.best_tour_len)\n",
        "                print(\"numbers of tours generated = \",\n",
        "                      acs.current_iteration*acs.m)\n",
        "\n",
        "            counter += 1\n",
        "            results = pd.DataFrame(results).T\n",
        "            results.columns = ['q', 'boost', 'best integer len',\n",
        "                               '# iterations', 'AVG integer len', 'STD ', 'Optimum', 'Rel error']\n",
        "            results.to_csv(\"results_final_2.csv\", mode='a', header=False)\n",
        "            print(results)\n"
      ]
    },
    {
      "cell_type": "code",
      "execution_count": null,
      "metadata": {},
      "outputs": [],
      "source": [
        "%matplotlib inline\n",
        "n_plots = len(list_len_over_iter)\n",
        "num_rows = int(n_plots/3)\n",
        "fig, axes = plt.subplots(nrows=num_rows, ncols=3 , figsize=(50, 80))\n",
        "plt.grid()\n",
        "row =-1\n",
        "#print(axes.size)\n",
        "cols = ['TSP Problem {}'.format(instances[col]) for col in range(3)]\n",
        "rows = ['TSP {}'.format(row) for row in range(int(len(list_len_over_iter)/3))]\n",
        "# ((np.array(list_len_over_iter[i])-ic.best_sol)*100.)/ic.best_sol\n",
        "count =-3\n",
        "for ax, col in zip(axes[0], cols):\n",
        "    ax.set_title(col)\n",
        "boost_list=[\"2OPT\\nMEAN=RED LINE\", \"NO 2 OPT\\nMEAN=RED LINE\"]\n",
        "\n",
        "print(np.array(list_len_over_iter[0]).flatten())\n",
        "#print(\"len of array of statistics\", np.array(list_len_over_iter))\n",
        "opt_solutions = [TSP_Instance_Creator(\"standard\", instances[0]).best_sol, TSP_Instance_Creator(\"standard\", instances[1]).best_sol, TSP_Instance_Creator(\"standard\", instances[2]).best_sol]\n",
        "\n",
        "for i in range(3):\n",
        "    count_step = 3\n",
        "    count = -3\n",
        "    step_mean = int(300./(i+1))\n",
        "    legend_index =0\n",
        "    for ax, row in zip(axes[:,i], rows):\n",
        "        print(\"row # \", row)\n",
        "        ax.set_ylabel(\"GAP\", rotation=0, size='large')\n",
        "        ax.set_xlabel(\"Iterations\", rotation=0, size='large')\n",
        "        ax.grid()\n",
        "        \n",
        "        #ax.plot(list(range(len(list_len_over_iter[count+3]))), list_len_over_iter[count+3])\n",
        "        #ax.plot([np.argmin(list_len_over_iter[count+3])], min(list_len_over_iter[count+3]), color='red')\n",
        "        means =[]\n",
        "        \n",
        "        count_m = -step_mean\n",
        "        lenght_x = []\n",
        "        #print(\"len of the array\", len(list_len_over_iter[i+count+count_step]))\n",
        "        if(count+count_step+i<len(list_len_over_iter)):\n",
        "            for j in np.array(list_len_over_iter[i+count+count_step])[::step_mean]:\n",
        "                means.append((np.mean(np.array(list_len_over_iter[i+count+count_step]).flatten()[count_m+step_mean:count_m+2*step_mean])-opt_solutions[i])*100./opt_solutions[i])\n",
        "                lenght_x.append(count_m+step_mean)\n",
        "                count_m+=step_mean\n",
        "            #print(\"len mean \", lenght_x, \"values mean \", means)\n",
        "\n",
        "            \n",
        "            ax.plot(list(range(int(len(list_len_over_iter[i+count+count_step])))),( np.array(list_len_over_iter[i+count+count_step])-opt_solutions[i])*100./opt_solutions[i], label=\"GAP\")\n",
        "            try:\n",
        "                ax.plot(lenght_x, means, color='red', label=boost_list[legend_index%2])\n",
        "                ax.legend(loc=\"upper right\", shadow=True)\n",
        "                legend_index+=1\n",
        "                \n",
        "            except:\n",
        "                print(\"out of range\")\n",
        "            \n",
        "            count+=count_step\n",
        "            \n",
        "    \n",
        "    #plt.plot([np.argmax(acs.tour_len_over_iters), np.argmin(acs.tour_len_over_iters)], [max(acs.tour_len_over_iters), min(acs.tour_len_over_iters)], color=\"blue\")\n",
        "plt.show()"
      ]
    },
    {
      "cell_type": "markdown",
      "metadata": {},
      "source": [
        "## ANT TOUR (REALTIME)\n",
        "I will show how the best ant will build its own tour on the TSP eil76"
      ]
    },
    {
      "cell_type": "code",
      "execution_count": null,
      "metadata": {},
      "outputs": [],
      "source": [
        "\n",
        "instance = instances[0]\n",
        "print(instance)\n",
        "ic = TSP_Instance_Creator(\"standard\", instance)\n",
        "np.random.seed(43)\n",
        "acs = ACS(ic, 0.98, boost=True, timeStop=180)\n",
        "#print(acs.tour_len_over_iters)\n",
        "#print(acs.eta)\n",
        "acs.solve()\n"
      ]
    },
    {
      "cell_type": "code",
      "execution_count": null,
      "metadata": {},
      "outputs": [],
      "source": [
        "%matplotlib inline\n",
        "print(np.argsort(acs.tour_len_over_iters[:]))\n",
        "print(type(acs.tour_len_over_iters[0]))\n",
        "total= float(acs.count_exploitation)+float(acs.count_exploration)\n",
        "print(\"exploitations= \", float(acs.count_exploitation)*100/total, \" % \")\n",
        "print(\"solution NN: \", acs.L_nn, \" mine: \", acs.best_tour_len)\n",
        "fig= plt.figure(figsize=(12, 6))\n",
        "plt.grid()\n",
        "plt.ylabel(\"GAP %\")\n",
        "plt.xlabel(\"Iterations\")\n",
        "plt.plot(list(range(int(acs.current_iteration)+1)), ((np.array(acs.tour_len_over_iters[::])-ic.best_sol)*100.)/ic.best_sol, color=\"red\")\n",
        "#plt.plot([np.argmax(acs.tour_len_over_iters), np.argmin(acs.tour_len_over_iters)], [max(acs.tour_len_over_iters), min(acs.tour_len_over_iters)], color=\"blue\")\n",
        "plt.show()"
      ]
    },
    {
      "cell_type": "code",
      "execution_count": null,
      "metadata": {},
      "outputs": [],
      "source": [
        "%matplotlib inline\n",
        "plot_tour(acs.instance, acs.best_tour,acs.best_ant)\n"
      ]
    },
    {
      "cell_type": "markdown",
      "metadata": {},
      "source": [
        "Comparing with NN tour solution"
      ]
    },
    {
      "cell_type": "code",
      "execution_count": null,
      "metadata": {},
      "outputs": [],
      "source": [
        "%matplotlib inline\n",
        "t, L_nn = nn(acs.instance.dist_matrix,\n",
        "                          starting_node=np.random.choice(acs.n))\n",
        "t.append(t[0])\n",
        "plot_tour(acs.instance, t,acs.best_ant)"
      ]
    },
    {
      "cell_type": "markdown",
      "metadata": {
        "id": "rss1e90H6yQY"
      },
      "source": [
        "# REPORT\n",
        "\n",
        "Overall, I got good results with the ANT colony system as shown in the plots above. Indeed, if one looks at the results called \"results_final\". I run different combinations: 3 different q0, 2 different variants, 3 different seeds, and 3 different instances. \\\n",
        "For instance, for problem eil76 I got the minimum value equal to 2.97. \n",
        "For plots I only considered just ANTS with q0=0.98. "
      ]
    },
    {
      "cell_type": "code",
      "execution_count": null,
      "metadata": {},
      "outputs": [],
      "source": [
        "data = pd.read_csv(\"CSV/results_final.csv\")\n",
        "data = data.rename(columns={\"Unnamed: 0\": \"Instance\"})\n",
        "\n",
        "print(\"Min gap % for instance eil76.tsp:\\n\")\n",
        "print(data.loc[data[\"Instance\"] ==\"eil76.tsp\"].min())\n",
        "print(\"\\nMin gap % for instance ch130.tsp:\\n\")\n",
        "print(data.loc[data[\"Instance\"] ==\"ch130.tsp\"].min())\n",
        "print(\"\\nMin gap % for instance d198.tsp:\\n\")\n",
        "print(data.loc[data[\"Instance\"] ==\"d198.tsp\"].min())\n",
        "array_min_gap = [data.loc[data[\"Instance\"] ==\"eil76.tsp\"][\"Rel error\"].min(), data.loc[data[\"Instance\"] ==\"ch130.tsp\"][\"Rel error\"].min(), data.loc[data[\"Instance\"] ==\"d198.tsp\"][\"Rel error\"].min()]\n",
        "plt.figure(figsize=(12,8))\n",
        "plt.bar(instances, array_min_gap)\n",
        "plt.xlabel(\"INSTANCES\")\n",
        "plt.ylabel(\"GAP %\")\n",
        "plt.grid()\n",
        "plt.title(\"BEST RESULTS\")\n",
        "plt.show()"
      ]
    }
  ],
  "metadata": {
    "colab": {
      "provenance": []
    },
    "kernelspec": {
      "display_name": "Python 3.9.13 ('base')",
      "language": "python",
      "name": "python3"
    },
    "language_info": {
      "codemirror_mode": {
        "name": "ipython",
        "version": 3
      },
      "file_extension": ".py",
      "mimetype": "text/x-python",
      "name": "python",
      "nbconvert_exporter": "python",
      "pygments_lexer": "ipython3",
      "version": "3.9.13"
    },
    "vscode": {
      "interpreter": {
        "hash": "ed722f512c77f4b1ce886b114888124821310047ed5f30469955730488a77252"
      }
    }
  },
  "nbformat": 4,
  "nbformat_minor": 0
}
